{
 "cells": [
  {
   "cell_type": "code",
   "execution_count": 1030,
   "metadata": {},
   "outputs": [],
   "source": [
    "import networkx as nx \n",
    "import matplotlib.pyplot as plt\n",
    "import matplotlib.animation as animation\n",
    "import numpy as np\n",
    "import copy\n",
    "from scipy.integrate import odeint\n",
    "from scipy.optimize import root_scalar\n",
    "import random \n",
    "import time\n",
    "from mpmath import *"
   ]
  },
  {
   "cell_type": "code",
   "execution_count": 1022,
   "metadata": {},
   "outputs": [],
   "source": [
    "def network_iter(G,infected,suscep,removed):\n",
    "\n",
    "    iteration = 1000        #initial parameters for network sir model \n",
    "    counter = 0\n",
    "   \n",
    "    gamma_inverse = 5\n",
    "    I = 1\n",
    "    S = N-I\n",
    "    R = 0\n",
    "    dt = 1\n",
    "\n",
    "    I_record=[]\n",
    "    S_record=[]\n",
    "    R_record=[]\n",
    "    p_record=[]\n",
    "\n",
    "\n",
    "    while counter<iteration:\n",
    "\n",
    "        new_infected = []\n",
    "\n",
    "        for sus in suscep:\n",
    "            nei = G[sus].keys()       # get current susceptible's neighbors\n",
    "            infected_nei = [n for n in nei if G.nodes[n]['status']=='infected']   # get infectious neighbors\n",
    "            p_infection = 1-np.power((1-beta*dt),len(infected_nei))#beta*len(infected_nei)/len(nei)\n",
    "            if p_infection!=0:\n",
    "                p_record.append(p_infection)\n",
    "            \n",
    "            inf_status = np.random.binomial(1,p_infection)\n",
    "            if inf_status==1:\n",
    "                new_infected.append(sus)\n",
    "                I=I+1\n",
    "                S=S-1\n",
    "\n",
    "        new_removed = []\n",
    "\n",
    "        for inf in infected:\n",
    "\n",
    "            G.nodes[inf]['inf_dur']=G.nodes[inf]['inf_dur']+dt\n",
    "\n",
    "            if G.nodes[inf]['inf_dur']>=gamma_inverse:\n",
    "                new_removed.append(inf)\n",
    "                I=I-1\n",
    "                R=R+1\n",
    "\n",
    "\n",
    "        new_infected= list(dict.fromkeys(new_infected))\n",
    "        new_removed = list(dict.fromkeys(new_removed))\n",
    "\n",
    "        for re in new_removed:\n",
    "            infected.remove(re)\n",
    "            G.nodes[re]['status']='removed'\n",
    "\n",
    "        for inf in new_infected:\n",
    "            suscep.remove(inf)\n",
    "            G.nodes[inf]['status']='infected'\n",
    "            G.nodes[inf]['inf_dur']=0\n",
    "\n",
    "        infected.extend(new_infected)\n",
    "        removed.extend(new_removed)\n",
    "        counter = counter + 1\n",
    "        \n",
    "\n",
    "        I_record.append(len(infected))\n",
    "        R_record.append(len(removed))\n",
    "        S_record.append(len(suscep))\n",
    "\n",
    "    \n",
    "        if len(infected)==0:\n",
    "            break\n",
    "            \n",
    "    return S_record,I_record,R_record,p_record"
   ]
  },
  {
   "cell_type": "code",
   "execution_count": 1085,
   "metadata": {},
   "outputs": [
    {
     "name": "stdout",
     "output_type": "stream",
     "text": [
      "0.02828327311658539\n"
     ]
    }
   ],
   "source": [
    "N=1000           #population \n",
    "m=4          #initial nodes\n",
    "N_nodes = set(np.arange(0,N,1))             #set of 100 nodes\n",
    "G = nx.barabasi_albert_graph(N,m)               #create graph\\\n",
    "degree_seq = list(G.degree())\n",
    "min_deg= np.min(np.array(degree_seq)[:,1])\n",
    "max_deg= np.max(np.array(degree_seq)[:,1])\n",
    "print(nx.average_clustering(G))"
   ]
  },
  {
   "cell_type": "markdown",
   "metadata": {},
   "source": [
    "Newman's Spread of epidemic disease on networks\n",
    "$$\\\\T_{c} = \\frac{<k>}{<k^{2}>-<k>}$$\\\n",
    "$$\\\\<k> = \\sum k p_{k} \\text{, where } p_{k} = \\frac{2m(m+1)}{k(k+1)(k+2)}$$\n",
    "$$T = 1- \\int_{0}^{\\inf} dr \\sum_{\\tau} P(r)P(\\tau)(1-r)^{\\tau}$$\n",
    "$$T = 1-(1-\\beta)^{\\gamma} \\text{ where }  \\beta = 0.5, \\gamma = 5 \\text{ in our simulation}$$"
   ]
  },
  {
   "cell_type": "code",
   "execution_count": 1076,
   "metadata": {},
   "outputs": [
    {
     "data": {
      "text/plain": [
       "0.10003091382975349"
      ]
     },
     "execution_count": 1076,
     "metadata": {},
     "output_type": "execute_result"
    }
   ],
   "source": [
    "all_m=[]\n",
    "k_mean = 0\n",
    "k_sm = 0\n",
    "for k in range(1,N):\n",
    "    k_mean = k_mean + p_k(m,k)*k\n",
    "    k_sm = k_sm + p_k(m,k)*k**2\n",
    "\n",
    "\n",
    "thresh = k_mean/(k_sm-k_mean) \n",
    "thresh \n"
   ]
  },
  {
   "cell_type": "markdown",
   "metadata": {},
   "source": [
    "\n",
    "$$\\text{degree distribution generating function: }$$\n",
    "$$\\\\ G_{0}(x) = \\sum p_{k} x^{k} $$\n",
    "$$\\text{degrees of vertices reached by following a randomly chosen edge: }$$\n",
    "$$\\\\G_{1}(x) = \\frac{G'_{0}(x)}{<k>} $$\n",
    "\n",
    "$$<s> = 1+ \\frac{TG'_{0}(1)}{1-TG'_{1}(1)}$$"
   ]
  },
  {
   "cell_type": "code",
   "execution_count": 1077,
   "metadata": {},
   "outputs": [],
   "source": [
    "def mean_s(T,k_m,k_sq):\n",
    "    return 1+((T*k_m)/(1-(T*((k_sq-k_m)/k_m))))"
   ]
  },
  {
   "cell_type": "code",
   "execution_count": 1083,
   "metadata": {},
   "outputs": [
    {
     "name": "stdout",
     "output_type": "stream",
     "text": [
      "[0.03       0.03411947 0.03823893 0.0423584  0.04647786 0.05059733\n",
      " 0.05471679 0.05883626 0.06295572 0.06707519 0.07119466 0.07531412\n",
      " 0.07943359 0.08355305 0.08767252 0.09179198 0.09591145 0.10003091]\n",
      "[0.00607332 0.00691898 0.00776752 0.00861898 0.00947337 0.01033072\n",
      " 0.01119105 0.01205439 0.01292075 0.01379017 0.01466266 0.01553825\n",
      " 0.01641697 0.01729885 0.0181839  0.01907215 0.01996363 0.02085836]\n",
      "[ 1.855317    2.03356313  2.2355754   2.46644658  2.7328364   3.04362452\n",
      "  3.41091957  3.85167363  4.39037303  5.06374729  5.9295142   7.08387007\n",
      "  8.69996829 11.12411562 15.16436117 23.24485228 47.4863256          inf]\n",
      "[0.02085836 0.03131884 0.0422517  0.05370784 0.06574721 0.0784412\n",
      " 0.09187577 0.10615587 0.12141153 0.13780685 0.15555336 0.17493074\n",
      " 0.19632061 0.22026462 0.24757187 0.27953751 0.31845091 0.36904266]\n"
     ]
    },
    {
     "name": "stderr",
     "output_type": "stream",
     "text": [
      "C:\\Users\\Peter\\Anaconda3\\lib\\site-packages\\ipykernel_launcher.py:2: RuntimeWarning: divide by zero encountered in true_divide\n",
      "  \n"
     ]
    }
   ],
   "source": [
    "T = np.linspace(0.03,thresh,18)\n",
    "above_T = np.linspace(thresh,0.9,18)\n",
    "s = mean_s(T,k_mean,k_sm)\n",
    "b_all = 1-np.power((1-T),1/5)\n",
    "b_ab_all = 1-np.power((1-above_T),1/5)\n",
    "print(T)\n",
    "print(b_all)\n",
    "print(s)\n",
    "print(b_ab_all)"
   ]
  },
  {
   "cell_type": "code",
   "execution_count": 978,
   "metadata": {},
   "outputs": [
    {
     "name": "stdout",
     "output_type": "stream",
     "text": [
      "[0.04343434343434343, 0.18185858585858586, 0.421050505050505, 0.4875656565656566, 0.6534141414141414, 0.7546161616161616, 0.8297575757575758, 0.8922121212121212, 0.9517979797979798, 0.9653434343434343, 0.9852424242424243, 0.9807878787878788, 0.9945959595959596, 0.9975656565656565, 0.998969696969697, 0.9996161616161616, 0.9998383838383839, 0.9999494949494949]\n"
     ]
    }
   ],
   "source": [
    "final_size = []\n",
    "for b in b_ab_all:\n",
    "    beta =b\n",
    "    size = []\n",
    "    for i in range(1,100):\n",
    "        infected= random.sample(N_nodes,1)           #select 2 nodes at random for infected\n",
    "        suscep=[s for s in N_nodes if s not in infected]  \n",
    "        removed=[]\n",
    "\n",
    "        for inf in infected:                           #initialize node attribute\n",
    "            G.nodes[inf]['status']='infected'\n",
    "            G.nodes[inf]['inf_dur']= 0\n",
    "\n",
    "        for sus in suscep:\n",
    "            G.nodes[sus]['status']='susceptible'\n",
    "\n",
    "        S,I,R,p = network_iter(G, infected,suscep,removed)\n",
    "        size.append(R[-1])\n",
    "    \n",
    "    final_size.append(np.mean(size)/N)\n",
    "\n",
    "print(final_size)"
   ]
  },
  {
   "cell_type": "code",
   "execution_count": 960,
   "metadata": {},
   "outputs": [
    {
     "data": {
      "text/plain": [
       "<matplotlib.legend.Legend at 0x20c7c00cb70>"
      ]
     },
     "execution_count": 960,
     "metadata": {},
     "output_type": "execute_result"
    },
    {
     "data": {
      "image/png": "[encoded data removed]",
      "text/plain": [
       "<Figure size 432x288 with 1 Axes>"
      ]
     },
     "metadata": {
      "needs_background": "light"
     },
     "output_type": "display_data"
    }
   ],
   "source": [
    "fig,ax = plt.subplots()\n",
    "ax.scatter(T,s,label='Analytical Mean')\n",
    "ax.scatter(T,final_size,label='Simulation Mean')\n",
    "ax.set_xlabel('transmissibility')\n",
    "ax.set_ylabel('mean size of outbreak')\n",
    "plt.title('Analytical mean size vs simulation under threshold')\n",
    "ax.legend()"
   ]
  },
  {
   "cell_type": "code",
   "execution_count": 1070,
   "metadata": {},
   "outputs": [],
   "source": [
    "def p_k(m,k):\n",
    "    return 2*(m)*(m+1)/(k*(k+1)*(k+2))\n",
    "    \n",
    "def G_0(x):\n",
    "    G = 0\n",
    "    for k in range(min_deg,1000):\n",
    "        G = G + p_k(m,k)*x**(k)\n",
    "        \n",
    "    return G\n",
    "def G_0_t(x,t):\n",
    "    \n",
    "    G_0_t = 0\n",
    "    \n",
    "    for k in range(min_deg,1000):\n",
    "        G_0_t = G_0_t + p_k(m,k)*(1+(x-1)*t)**k\n",
    "        \n",
    "    return G_0_t\n",
    "        \n",
    "        \n",
    "def G_0_prime(x):\n",
    "    G_p=0\n",
    "    for k in range(min_deg,1000):\n",
    "        G_p= G_p + k*p_k(m,k)*x**(k-1)\n",
    "        \n",
    "    return G_p\n",
    "\n",
    "def G_0_pp(x):\n",
    "    G_pp=0\n",
    "    for k in range(min_deg,1000):\n",
    "        G_pp= G_pp + k*(k-1)*p_k(m,k)*x**(k-2)\n",
    "        \n",
    "    return G_pp\n",
    "    \n",
    "\n",
    "def G_0_prime_t(x,t):\n",
    "    G_p_t=0\n",
    "    for k in range(min_deg,1000):\n",
    "        G_p_t= G_p_t + k*p_k(m,k)*(1+(x-1)*t)**(k-1)\n",
    "        \n",
    "    return G_p_t\n",
    "\n",
    "def S_T(G):\n",
    "    return 1-G\n",
    "\n",
    "\n",
    "def fun(u):\n",
    "    \n",
    "    return u-(G_0_prime_t(u,t)/(G_0_prime(1)))\n",
    "\n",
    "def G_0_ppt(u,t):\n",
    "    \n",
    "    pp = 0\n",
    "    \n",
    "    for k in range(min_deg,1000): \n",
    "        pp = pp+ t*k*(k-1)*p_k(m,k)*(1+(u-1)*t)**(k-2)\n",
    "        \n",
    "    return pp\n",
    "        \n",
    "\n",
    "def fun_p(u):\n",
    "    \n",
    "    return 1-G_0_ppt(u,t)/(G_0_prime(1))"
   ]
  },
  {
   "cell_type": "markdown",
   "metadata": {},
   "source": [
    "$$S(T) = 1- G_{0}(u;T)$$\n",
    "\n",
    "$$u = G_1(u;T)$$\n",
    "\n",
    "$$\\text{In Degree Distribution Terms: }$$\n",
    "\n",
    "$$u = \\frac{\\sum kp_{k}(1+(u-1)T)^{k-1}}{\\sum kp_{k}}$$"
   ]
  },
  {
   "cell_type": "code",
   "execution_count": 1084,
   "metadata": {},
   "outputs": [
    {
     "name": "stdout",
     "output_type": "stream",
     "text": [
      "[0.04343434343434343, 0.18185858585858586, 0.421050505050505, 0.4875656565656566, 0.6534141414141414, 0.7546161616161616, 0.8297575757575758, 0.8922121212121212, 0.9517979797979798, 0.9653434343434343, 0.9852424242424243, 0.9807878787878788, 0.9945959595959596, 0.9975656565656565, 0.998969696969697, 0.9996161616161616, 0.9998383838383839, 0.9999494949494949]\n"
     ]
    },
    {
     "data": {
      "image/png": "[encoded data removed]",
      "text/plain": [
       "<Figure size 432x288 with 1 Axes>"
      ]
     },
     "metadata": {
      "needs_background": "light"
     },
     "output_type": "display_data"
    }
   ],
   "source": [
    "ana_epi_size = []\n",
    "for i in range(len(above_T)):\n",
    "    t = above_T[i]\n",
    "    u= root_scalar(fun,x0=0.3,fprime=fun_p,method='newton')\n",
    "    s = S_T(G_0_t(u.root,t))\n",
    "    ana_epi_size.append(s)\n",
    "    \n",
    "\n",
    "fig,ax = plt.subplots()\n",
    "ax.scatter(above_T,final_size,label='simulated proportion')\n",
    "ax.scatter(above_T,ana_epi_size,label='analytical proportion')\n",
    "ax.set_xlabel('transmissibility')\n",
    "ax.set_ylabel('proportion total infected')\n",
    "plt.title('Proportion of Total Infections above threshold')\n",
    "ax.legend()\n",
    "print(final_size)"
   ]
  },
  {
   "cell_type": "code",
   "execution_count": null,
   "metadata": {},
   "outputs": [],
   "source": []
  }
 ],
 "metadata": {
  "kernelspec": {
   "display_name": "Python 3",
   "language": "python",
   "name": "python3"
  },
  "language_info": {
   "codemirror_mode": {
    "name": "ipython",
    "version": 3
   },
   "file_extension": ".py",
   "mimetype": "text/x-python",
   "name": "python",
   "nbconvert_exporter": "python",
   "pygments_lexer": "ipython3",
   "version": "3.7.6"
  }
 },
 "nbformat": 4,
 "nbformat_minor": 2
}
